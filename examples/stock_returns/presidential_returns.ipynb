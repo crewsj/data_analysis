{
 "cells": [
  {
   "cell_type": "code",
   "execution_count": 31,
   "metadata": {
    "collapsed": false,
    "deletable": true,
    "editable": true
   },
   "outputs": [],
   "source": [
    "from datetime import date\n",
    "from enum import Enum\n",
    "from operator import attrgetter, itemgetter\n",
    "from pandas_datareader import data\n",
    "import math\n",
    "import matplotlib.pyplot as plt\n",
    "from matplotlib import rc\n",
    "rc('font', weight='bold')"
   ]
  },
  {
   "cell_type": "code",
   "execution_count": 32,
   "metadata": {
    "collapsed": false,
    "deletable": true,
    "editable": true
   },
   "outputs": [],
   "source": [
    "class Party(Enum):\n",
    "    democrat = 0\n",
    "    republican = 1\n",
    "\n",
    "    \n",
    "def annualized_return(total_return, years):\n",
    "    \"\"\" % annualized return \"\"\"\n",
    "    ret = math.pow(total_return / 100 + 1, 1 / years)\n",
    "    return (ret - 1) * 100\n",
    "\n",
    "\n",
    "def total_return(start, end):\n",
    "    \"\"\" % total return \"\"\"\n",
    "    return (end / start - 1) * 100\n",
    "\n",
    "\n",
    "class President():\n",
    "    def __init__(self, name, party, end_date, start_date=None):\n",
    "        self.name = name\n",
    "        self.party = party\n",
    "        self.end_date = end_date\n",
    "        self.start_date = start_date\n",
    "        self.start_price = None\n",
    "        self.end_price = None\n",
    "        \n",
    "    def get_term(self):\n",
    "        return ((self.end_date - self.start_date).days) / 365.25\n",
    "        \n",
    "    def get_total_return(self):\n",
    "        \"\"\"% total return\"\"\"\n",
    "        return total_return(self.start_price, self.end_price)\n",
    "    \n",
    "    def get_annualized_return(self):\n",
    "        \"\"\"% annualized return\"\"\"\n",
    "        return annualized_return(self.get_total_return(), self.get_term())"
   ]
  },
  {
   "cell_type": "code",
   "execution_count": 33,
   "metadata": {
    "collapsed": false,
    "deletable": true,
    "editable": true
   },
   "outputs": [],
   "source": [
    "presidents = [President(\"Harry S. Truman\", Party.democrat, date(1953, 1, 20), date(1945, 6, 12)),\n",
    "              President(\"Dwight D. Eisenhower\", Party.republican, date(1961, 1, 20)),\n",
    "              President(\"John F. Kennedy\", Party.democrat, date(1963, 11, 22)),\n",
    "              President(\"Lyndon B. Johnson\", Party.democrat, date(1969, 1, 29)),\n",
    "              President(\"Richard Nixon\", Party.republican, date(1974, 8, 9)),\n",
    "              President(\"Gerald Ford\", Party.republican, date(1977, 1, 20)),\n",
    "              President(\"Jimmy Carter\", Party.democrat, date(1981, 1, 20)),\n",
    "              President(\"Ronald Reagan\",  Party.republican, date(1989, 1, 20)),\n",
    "              President(\"George H. W. Bush\", Party.republican, date(1993, 1, 20)),\n",
    "              President(\"Bill Clinton\", Party.democrat, date(2001, 1, 20)),\n",
    "              President(\"George W. Bush\", Party.republican, date(2009, 1, 20)),\n",
    "              President(\"Barack Obama\", Party.democrat, date(2017, 1, 20))]"
   ]
  },
  {
   "cell_type": "code",
   "execution_count": 34,
   "metadata": {
    "collapsed": false,
    "deletable": true,
    "editable": true
   },
   "outputs": [],
   "source": [
    "# set the start date equal to the previous presidents end date\n",
    "for i, president in enumerate(presidents):\n",
    "    if president.start_date is None:\n",
    "        president.start_date = presidents[i-1].end_date"
   ]
  },
  {
   "cell_type": "code",
   "execution_count": 35,
   "metadata": {
    "collapsed": false,
    "deletable": true,
    "editable": true
   },
   "outputs": [],
   "source": [
    "# get all the stock prices from yahoo\n",
    "# using S&P 500 total return\n",
    "for pres in presidents:\n",
    "    price = data.DataReader(\"^GSPC\", \"yahoo\", pres.start_date, pres.end_date)\n",
    "    pres.start_price = price.ix[0][\"Adj Close\"]\n",
    "    pres.end_price = price.ix[-1][\"Adj Close\"]"
   ]
  },
  {
   "cell_type": "code",
   "execution_count": 36,
   "metadata": {
    "collapsed": false,
    "deletable": true,
    "editable": true
   },
   "outputs": [
    {
     "name": "stdout",
     "output_type": "stream",
     "text": [
      "George W. Bush (R): -40.04%\n",
      "Richard Nixon (R): -21.12%\n",
      "John F. Kennedy (D): 16.09%\n",
      "Gerald Ford (R): 27.34%\n",
      "Jimmy Carter (D): 27.85%\n",
      "Lyndon B. Johnson (D): 47.26%\n",
      "George H. W. Bush (R): 51.19%\n",
      "Harry S. Truman (D): 56.90%\n",
      "Ronald Reagan (R): 117.72%\n",
      "Dwight D. Eisenhower (R): 129.38%\n",
      "Barack Obama (D): 182.07%\n",
      "Bill Clinton (D): 209.79%\n"
     ]
    }
   ],
   "source": [
    "for pres in sorted(presidents, key=lambda x: x.get_total_return()):\n",
    "    print(\"{} ({}): {:.2f}%\".format(pres.name, \"R\" if pres.party == Party.republican else \"D\", pres.get_total_return()))"
   ]
  },
  {
   "cell_type": "code",
   "execution_count": 37,
   "metadata": {
    "collapsed": false,
    "deletable": true,
    "editable": true,
    "scrolled": true
   },
   "outputs": [
    {
     "name": "stdout",
     "output_type": "stream",
     "text": [
      "George W. Bush (R): -6.19%\n",
      "Richard Nixon (R): -4.20%\n",
      "John F. Kennedy (D): 5.40%\n",
      "Harry S. Truman (D): 6.10%\n",
      "Jimmy Carter (D): 6.34%\n",
      "Lyndon B. Johnson (D): 7.75%\n",
      "Ronald Reagan (R): 10.21%\n",
      "Gerald Ford (R): 10.37%\n",
      "George H. W. Bush (R): 10.89%\n",
      "Dwight D. Eisenhower (R): 10.94%\n",
      "Barack Obama (D): 13.84%\n",
      "Bill Clinton (D): 15.18%\n"
     ]
    }
   ],
   "source": [
    "for pres in sorted(presidents, key=lambda x: x.get_annualized_return()):\n",
    "    print(\"{} ({}): {:.2f}%\".format(pres.name, \"R\" if pres.party == Party.republican else \"D\", pres.get_annualized_return()))"
   ]
  },
  {
   "cell_type": "code",
   "execution_count": 38,
   "metadata": {
    "collapsed": false,
    "deletable": true,
    "editable": true
   },
   "outputs": [
    {
     "name": "stdout",
     "output_type": "stream",
     "text": [
      "Republican: Total return 354.78839775299286%, annualized 4.300165628546138%\n",
      "Democrat: Total return 2896.923212521224%, annualized 10.012260526775151%\n"
     ]
    }
   ],
   "source": [
    "def total_return_by_party(presidents, party):\n",
    "    term = 0\n",
    "    total_return = 1.0\n",
    "    for pres in presidents:\n",
    "        if pres.party == party:\n",
    "            total_return *= pres.end_price / pres.start_price\n",
    "            term += pres.get_term()\n",
    "            \n",
    "    total_return = (total_return - 1) * 100\n",
    "    return total_return, term\n",
    "\n",
    "rep_return, rep_term = total_return_by_party(presidents, Party.republican)\n",
    "dem_return, dem_term = total_return_by_party(presidents, Party.democrat)\n",
    "\n",
    "print(\"Republican: Total return {}%, annualized {}%\".format(rep_return,\n",
    "                                                            annualized_return(rep_return, rep_term)))\n",
    "print(\"Democrat: Total return {}%, annualized {}%\".format(dem_return,\n",
    "                                                          annualized_return(dem_return, dem_term)))\n"
   ]
  },
  {
   "cell_type": "code",
   "execution_count": 42,
   "metadata": {
    "collapsed": false,
    "deletable": true,
    "editable": true
   },
   "outputs": [
    {
     "data": {
      "image/png": "[encoded data removed]",
      "text/plain": [
       "<matplotlib.figure.Figure at 0x19a94e82f60>"
      ]
     },
     "metadata": {},
     "output_type": "display_data"
    },
    {
     "data": {
      "image/png": "[encoded data removed]",
      "text/plain": [
       "<matplotlib.figure.Figure at 0x19a94d4b6a0>"
      ]
     },
     "metadata": {},
     "output_type": "display_data"
    }
   ],
   "source": [
    "r_total = []\n",
    "r_annual = []\n",
    "r_ind = []\n",
    "d_total = []\n",
    "d_annual = []\n",
    "d_ind = []\n",
    "names = []\n",
    "for i, pres in enumerate(presidents):\n",
    "    names.append(pres.name.split(\" \")[-1])\n",
    "    if pres.party == Party.republican:\n",
    "        r_total.append(pres.get_total_return())\n",
    "        r_annual.append(pres.get_annualized_return())\n",
    "        r_ind.append(i)\n",
    "    else:\n",
    "        d_total.append(pres.get_total_return())\n",
    "        d_annual.append(pres.get_annualized_return())\n",
    "        d_ind.append(i)\n",
    "\n",
    "fig = plt.figure(0)\n",
    "rects1 = plt.bar(r_ind, r_total, 0.8, color='r', label='Rep')\n",
    "rects2 = plt.bar(d_ind, d_total, 0.8, color='b', label='Dem')\n",
    "plt.xticks(range(0, len(presidents)), names, rotation='vertical')\n",
    "plt.ylabel(\"% total return\", fontsize=12, fontweight='bold')\n",
    "plt.legend()\n",
    "plt.show()\n",
    "\n",
    "fig = plt.figure(1)\n",
    "rects1 = plt.bar(r_ind, r_annual, 0.8, color='r', label='Rep')\n",
    "rects2 = plt.bar(d_ind, d_annual, 0.8, color='b', label='Dem')\n",
    "plt.xticks(range(0, len(presidents)), names, rotation='vertical')\n",
    "plt.ylabel(\"% annual return\", fontsize=12, fontweight='bold')\n",
    "plt.legend()\n",
    "plt.show()"
   ]
  },
  {
   "cell_type": "code",
   "execution_count": 44,
   "metadata": {
    "collapsed": false,
    "deletable": true,
    "editable": true
   },
   "outputs": [
    {
     "data": {
      "image/png": "[encoded data removed]",
      "text/plain": [
       "<matplotlib.figure.Figure at 0x19a94eee3c8>"
      ]
     },
     "metadata": {},
     "output_type": "display_data"
    }
   ],
   "source": [
    "r_annual = []\n",
    "r_ind = []\n",
    "d_annual = []\n",
    "d_ind = []\n",
    "names = []\n",
    "for i, pres in enumerate(sorted(presidents, key=lambda x: x.get_annualized_return())):\n",
    "    names.append(pres.name.split(\" \")[-1])\n",
    "    if pres.party == Party.republican:\n",
    "        r_annual.append(pres.get_annualized_return())\n",
    "        r_ind.append(i)\n",
    "    else:\n",
    "        d_annual.append(pres.get_annualized_return())\n",
    "        d_ind.append(i)\n",
    "\n",
    "fig = plt.figure(0)\n",
    "rects1 = plt.bar(r_ind, r_annual, 0.8, color='r', label='Rep')\n",
    "rects2 = plt.bar(d_ind, d_annual, 0.8, color='b', label='Dem')\n",
    "plt.ylabel(\"% annual return\", fontsize=12, fontweight='bold')\n",
    "plt.xticks(range(0, len(presidents)), names, rotation='vertical')\n",
    "plt.legend()\n",
    "plt.show()"
   ]
  },
  {
   "cell_type": "code",
   "execution_count": 45,
   "metadata": {
    "collapsed": false,
    "deletable": true,
    "editable": true
   },
   "outputs": [
    {
     "name": "stdout",
     "output_type": "stream",
     "text": [
      "Republican: Total return 658.4701972790683%, annualized 7.511285833020653%\n",
      "Democrat: Total return 242.9614615737604%, annualized 6.478605762078549%\n"
     ]
    }
   ],
   "source": [
    "# Returns not counting clinton, bush, obama\n",
    "rep_return, rep_term = total_return_by_party(presidents[:-3], Party.republican)\n",
    "dem_return, dem_term = total_return_by_party(presidents[:-3], Party.democrat)\n",
    "\n",
    "print(\"Republican: Total return {}%, annualized {}%\".format(rep_return,\n",
    "                                                            annualized_return(rep_return, rep_term)))\n",
    "print(\"Democrat: Total return {}%, annualized {}%\".format(dem_return,\n",
    "                                                          annualized_return(dem_return, dem_term)))"
   ]
  }
 ],
 "metadata": {
  "kernelspec": {
   "display_name": "Python 3",
   "language": "python",
   "name": "python3"
  },
  "language_info": {
   "codemirror_mode": {
    "name": "ipython",
    "version": 3
   },
   "file_extension": ".py",
   "mimetype": "text/x-python",
   "name": "python",
   "nbconvert_exporter": "python",
   "pygments_lexer": "ipython3",
   "version": "3.5.2"
  }
 },
 "nbformat": 4,
 "nbformat_minor": 2
}
